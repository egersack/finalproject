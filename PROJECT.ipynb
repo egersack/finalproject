{
  "nbformat": 4,
  "nbformat_minor": 0,
  "metadata": {
    "colab": {
      "name": "PROJECT",
      "provenance": [],
      "collapsed_sections": [],
      "authorship_tag": "ABX9TyMdqlyyn5blhqxpqoSuTNz7",
      "include_colab_link": true
    },
    "kernelspec": {
      "name": "python3",
      "display_name": "Python 3"
    },
    "language_info": {
      "name": "python"
    }
  },
  "cells": [
    {
      "cell_type": "markdown",
      "metadata": {
        "id": "view-in-github",
        "colab_type": "text"
      },
      "source": [
        "<a href=\"https://colab.research.google.com/github/egersack/finalproject/blob/main/PROJECT.ipynb\" target=\"_parent\"><img src=\"https://colab.research.google.com/assets/colab-badge.svg\" alt=\"Open In Colab\"/></a>"
      ]
    },
    {
      "cell_type": "code",
      "execution_count": 1,
      "metadata": {
        "colab": {
          "base_uri": "https://localhost:8080/"
        },
        "id": "VqUTILrPB-OS",
        "outputId": "a7ba3117-e9c8-4c0b-a4be-a0cbbd7ee062"
      },
      "outputs": [
        {
          "output_type": "stream",
          "name": "stdout",
          "text": [
            "{'token_type': 'Bearer', 'expires_at': 1648501174, 'expires_in': 21600, 'refresh_token': '9b9d27ee5cd3f33dd0df5190023fc9ae81f9db51', 'access_token': '3b93f87d9d078e320f56ec7ca5365e187eca077e', 'athlete': {'id': 68899871, 'username': 'egersack', 'resource_state': 2, 'firstname': 'Ella', 'lastname': 'Gersack', 'bio': None, 'city': None, 'state': None, 'country': None, 'sex': 'F', 'premium': False, 'summit': False, 'created_at': '2020-09-21T15:05:00Z', 'updated_at': '2021-08-07T20:39:58Z', 'badge_type_id': 0, 'weight': 0.0, 'profile_medium': 'https://lh3.googleusercontent.com/a/AATXAJyU6KDVWeovaORBSqxA1tPDHbIvsQ0mUJhb4Hq7=s96-c', 'profile': 'https://lh3.googleusercontent.com/a/AATXAJyU6KDVWeovaORBSqxA1tPDHbIvsQ0mUJhb4Hq7=s96-c', 'friend': None, 'follower': None}}\n"
          ]
        }
      ],
      "source": [
        "import requests\n",
        "import json\n",
        "# Make Strava auth API call with your \n",
        "# client_code, client_secret and code\n",
        "response = requests.post(\n",
        "                    url = 'https://www.strava.com/oauth/token',\n",
        "                    data = {\n",
        "                            'client_id': 80244,\n",
        "                            'client_secret': '5569506f1befcc383ee1041f3aa7dd8d4551295f',\n",
        "                            'code': 'a07b1dc071e6609c7aff89db311d3a840f9df99d',\n",
        "                            'grant_type': 'authorization_code'\n",
        "                            }\n",
        "                )\n",
        "#Save json response as a variable\n",
        "strava_tokens = response.json()\n",
        "# Save tokens to file\n",
        "with open('strava_tokens.json', 'w') as outfile:\n",
        "    json.dump(strava_tokens, outfile)\n",
        "# Open JSON file and print the file contents \n",
        "# to check it's worked properly\n",
        "with open('strava_tokens.json') as check:\n",
        "  data = json.load(check)\n",
        "print(data)"
      ]
    },
    {
      "cell_type": "code",
      "source": [
        "import requests\n",
        "import urllib3\n",
        "urllib3.disable_warnings(urllib3.exceptions.InsecureRequestWarning)\n",
        "\n",
        "auth_url = \"https://www.strava.com/oauth/token\"\n",
        "activites_url = \"https://www.strava.com/api/v3/athlete/activities\"\n",
        "\n",
        "payload = {\n",
        "    'client_id': \"80244\",\n",
        "    'client_secret': '5569506f1befcc383ee1041f3aa7dd8d4551295f',\n",
        "    'refresh_token': '9b9d27ee5cd3f33dd0df5190023fc9ae81f9db51',\n",
        "    'grant_type': \"refresh_token\",\n",
        "    'f': 'json'\n",
        "}\n",
        "\n",
        "print(\"Requesting Token...\\n\")\n",
        "res = requests.post(auth_url, data=payload, verify=False)\n",
        "access_token = res.json()['access_token']\n",
        "print(\"Access Token = {}\\n\".format(access_token))\n",
        "\n",
        "header = {'Authorization': 'Bearer ' + access_token}\n",
        "param = {'per_page': 200, 'page': 1}\n",
        "my_dataset = requests.get(activites_url, headers=header, params=param).json()\n",
        "\n",
        "print(my_dataset[0][\"name\"])\n",
        "print(my_dataset[0][\"map\"][\"summary_polyline\"])"
      ],
      "metadata": {
        "colab": {
          "base_uri": "https://localhost:8080/"
        },
        "id": "uxlCkpDmioJU",
        "outputId": "f9eaa1da-9657-4a39-e991-61aa7c6ef404"
      },
      "execution_count": 1,
      "outputs": [
        {
          "output_type": "stream",
          "name": "stdout",
          "text": [
            "Requesting Token...\n",
            "\n",
            "Access Token = 766493080447f798ae12e014d83b5bc83dd4c212\n",
            "\n",
            "Afternoon Run\n",
            "cqoaG~b}pLF\\JHAFHh@Dl@^~ADVBD^rB@^RjB@`@DNBh@ZrBNb@f@tB`@jB@JHPv@dDL`@ZfBVfBJ`AJ`CBN@vAB@IkA@y@KyA[yCUuA[mA?GCCMm@KU]gBK[_@_B@GKSOm@?YGIc@iBg@kFEcAWqASu@AH@HTp@Lr@JtAFRNjC\\~BtAtFHd@FLFb@lAfFTtAZxCBrAD\\BpACFHzAA^DfB?bCKlDB^BdAI^Ev@KZEx@Ot@Ef@B|@GLD`@APoAtBmA`AUXi@hAGD_@v@Sj@k@lA}AjB]x@aArAKFILm@t@q@h@cAj@oAj@aAVuATmALEA}Ef@gBHiALk@@aAJKHMASD}@D_CFyE?SDi@EED}@CABiAQcHYq@HUCk@DuBd@s@VGF[DyB|@_@Tg@Ps@h@STALMFQTIVWd@Md@MLYjBWjE?tAAVFnAAFHdAANF|A?fBCTAx@Qb@Cb@OZMh@e@z@]d@MJ]h@I@e@Ze@d@}A|@]XMDOPYLu@t@a@h@[TAFW`@UV[d@EPy@bA}@lBQVSl@U`@C@Od@Yn@Kb@Yx@WvAGPEl@EJAj@CL?ZIfCH~BTxBVtAHVLRF^FJBT\\\\fAzAdArA~ChCVPf@RX?TK^]JYFa@?SS}@GICMOWKa@w@uBI_@Wc@ESQ_@SWEWO_@IIUm@OYK]Yi@M]YoAEq@ES@SEu@@y@DQ?QLkARcA`@sAf@cAt@_An@g@bAm@|@WbCW|AGPFt@K\\QNQR]f@Yd@s@DOPc@@[LQnAwEJi@FQBo@EODU?SmDuC]_@IOAIHeA@m@IsCQgD?q@DB@IEQAc@J{BJmARsAz@}BbAsAp@k@r@WTQh@WpA]z@]JAFG\\EXMtAQtAAXAR?JFNGnCLb@F~@Er@Pl@@LAdBDrDINDXGbDK`ASx@Cr@Kh@?~BWbACjAMX@l@MjC[FGrAWJIh@QJKVE~AqAp@s@bAuAJWVU`@y@nA_BN_@RUDSFE?GPg@P[Rm@NMP_@dAeATMj@y@l@iA@MGMAGFg@@_@Fy@?Wf@}D@iBC[LsDCS@I?kBCSBcAEKIeCCcCYuCYyBQm@C[M_@@IM_@EYM]_@kBKYGc@i@{B[eAIk@EOY_CUaDIk@Og@E[Oe@AKYqAG{@WoA\n"
          ]
        }
      ]
    },
    {
      "cell_type": "code",
      "source": [
        "import pandas as pd\n",
        "from pandas.io.json import json_normalize\n",
        "activities = json_normalize(my_dataset)"
      ],
      "metadata": {
        "colab": {
          "base_uri": "https://localhost:8080/"
        },
        "id": "gtNBTPhNjM7f",
        "outputId": "9ed37fb8-c338-4736-9a25-7942c3789b96"
      },
      "execution_count": 2,
      "outputs": [
        {
          "output_type": "stream",
          "name": "stderr",
          "text": [
            "/usr/local/lib/python3.7/dist-packages/ipykernel_launcher.py:3: FutureWarning: pandas.io.json.json_normalize is deprecated, use pandas.json_normalize instead\n",
            "  This is separate from the ipykernel package so we can avoid doing imports until\n"
          ]
        }
      ]
    },
    {
      "cell_type": "code",
      "source": [
        "#Pandas will be the backbone of our data manipulation.\n",
        "import pandas as pd\n",
        "from pandas.io.json import json_normalize\n",
        "#Seaborn is a data visualization library.\n",
        "import seaborn as sns\n",
        "#Matplotlib is a data visualization library. \n",
        "#Seaborn is actually built on top of Matplotlib. \n",
        "import matplotlib.pyplot as plt\n",
        "#Numpy will help us handle some work with arrays.\n",
        "import numpy as np\n",
        "#Datetime will allow Python to recognize dates as dates, not strings.\n",
        "from datetime import datetime\n"
      ],
      "metadata": {
        "id": "6WMNruQKjOUQ"
      },
      "execution_count": 3,
      "outputs": []
    },
    {
      "cell_type": "code",
      "source": [
        "activities = json_normalize(my_dataset)\n",
        "#activities.columns #See a list of all columns in the table\n",
        "#activities.shape #See the dimensions of the table."
      ],
      "metadata": {
        "colab": {
          "base_uri": "https://localhost:8080/"
        },
        "id": "yCTp5joIjWzH",
        "outputId": "85dde9fa-6454-48ea-c0da-e2f97ed29df9"
      },
      "execution_count": 4,
      "outputs": [
        {
          "output_type": "stream",
          "name": "stderr",
          "text": [
            "/usr/local/lib/python3.7/dist-packages/ipykernel_launcher.py:1: FutureWarning: pandas.io.json.json_normalize is deprecated, use pandas.json_normalize instead\n",
            "  \"\"\"Entry point for launching an IPython kernel.\n"
          ]
        }
      ]
    },
    {
      "cell_type": "code",
      "source": [
        "#Create new dataframe with only columns I care about\n",
        "cols = ['name', 'upload_id', 'type', 'distance', 'moving_time',   \n",
        "         'average_speed', 'max_speed','total_elevation_gain',\n",
        "         'start_date_local'\n",
        "       ]\n",
        "activities = activities[cols]\n",
        "#Break date into start time and date\n",
        "activities['start_date_local'] = pd.to_datetime(activities['start_date_local'])\n",
        "activities['start_time'] = activities['start_date_local'].dt.time\n",
        "activities['start_date_local'] = activities['start_date_local'].dt.date\n",
        "activities.head(10)"
      ],
      "metadata": {
        "colab": {
          "base_uri": "https://localhost:8080/",
          "height": 705
        },
        "id": "UTRd_QD2jsI_",
        "outputId": "c3af129b-979d-48f6-c02e-b460a7a47ccb"
      },
      "execution_count": 7,
      "outputs": [
        {
          "output_type": "stream",
          "name": "stderr",
          "text": [
            "/usr/local/lib/python3.7/dist-packages/ipykernel_launcher.py:8: SettingWithCopyWarning: \n",
            "A value is trying to be set on a copy of a slice from a DataFrame.\n",
            "Try using .loc[row_indexer,col_indexer] = value instead\n",
            "\n",
            "See the caveats in the documentation: https://pandas.pydata.org/pandas-docs/stable/user_guide/indexing.html#returning-a-view-versus-a-copy\n",
            "  \n"
          ]
        },
        {
          "output_type": "execute_result",
          "data": {
            "text/plain": [
              "            name   upload_id type  distance  moving_time  average_speed  \\\n",
              "0  Afternoon Run  7298032678  Run   11282.0         3242          3.480   \n",
              "1      Lunch Run  7014009908  Run   12099.9         4676          2.588   \n",
              "2  Afternoon Run  6965235864  Run   12582.4         4106          3.064   \n",
              "3  Afternoon Run  6915283782  Run    9973.3         2857          3.491   \n",
              "4    Morning Run  6746517842  Run   10040.6         2877          3.490   \n",
              "5  Afternoon Run  6716785648  Run   12147.6         3553          3.419   \n",
              "6    Morning Run  6716580065  Run   12149.0         3697          3.286   \n",
              "7    Morning Run  6238021423  Run    9666.0         2944          3.283   \n",
              "8  Afternoon Run  6233156433  Run    5353.8         1769          3.026   \n",
              "9    Morning Run  6047168307  Run   10167.6         3280          3.100   \n",
              "\n",
              "   max_speed  total_elevation_gain start_date_local start_time  \n",
              "0      5.478                  22.3       2022-03-21   00:00:00  \n",
              "1     13.029                  22.3       2022-01-28   00:00:00  \n",
              "2     10.338                  22.6       2022-01-19   00:00:00  \n",
              "3      7.602                  24.2       2022-01-10   00:00:00  \n",
              "4      4.791                  24.2       2021-12-05   00:00:00  \n",
              "5      5.564                  31.4       2021-11-28   00:00:00  \n",
              "6      4.958                  32.4       2021-11-25   00:00:00  \n",
              "7      4.800                  17.7       2021-08-28   00:00:00  \n",
              "8      4.800                   0.0       2021-08-13   00:00:00  \n",
              "9      5.500                 205.9       2021-07-25   00:00:00  "
            ],
            "text/html": [
              "\n",
              "  <div id=\"df-fa14d723-0fd7-4916-981c-5ca7dd437ec0\">\n",
              "    <div class=\"colab-df-container\">\n",
              "      <div>\n",
              "<style scoped>\n",
              "    .dataframe tbody tr th:only-of-type {\n",
              "        vertical-align: middle;\n",
              "    }\n",
              "\n",
              "    .dataframe tbody tr th {\n",
              "        vertical-align: top;\n",
              "    }\n",
              "\n",
              "    .dataframe thead th {\n",
              "        text-align: right;\n",
              "    }\n",
              "</style>\n",
              "<table border=\"1\" class=\"dataframe\">\n",
              "  <thead>\n",
              "    <tr style=\"text-align: right;\">\n",
              "      <th></th>\n",
              "      <th>name</th>\n",
              "      <th>upload_id</th>\n",
              "      <th>type</th>\n",
              "      <th>distance</th>\n",
              "      <th>moving_time</th>\n",
              "      <th>average_speed</th>\n",
              "      <th>max_speed</th>\n",
              "      <th>total_elevation_gain</th>\n",
              "      <th>start_date_local</th>\n",
              "      <th>start_time</th>\n",
              "    </tr>\n",
              "  </thead>\n",
              "  <tbody>\n",
              "    <tr>\n",
              "      <th>0</th>\n",
              "      <td>Afternoon Run</td>\n",
              "      <td>7298032678</td>\n",
              "      <td>Run</td>\n",
              "      <td>11282.0</td>\n",
              "      <td>3242</td>\n",
              "      <td>3.480</td>\n",
              "      <td>5.478</td>\n",
              "      <td>22.3</td>\n",
              "      <td>2022-03-21</td>\n",
              "      <td>00:00:00</td>\n",
              "    </tr>\n",
              "    <tr>\n",
              "      <th>1</th>\n",
              "      <td>Lunch Run</td>\n",
              "      <td>7014009908</td>\n",
              "      <td>Run</td>\n",
              "      <td>12099.9</td>\n",
              "      <td>4676</td>\n",
              "      <td>2.588</td>\n",
              "      <td>13.029</td>\n",
              "      <td>22.3</td>\n",
              "      <td>2022-01-28</td>\n",
              "      <td>00:00:00</td>\n",
              "    </tr>\n",
              "    <tr>\n",
              "      <th>2</th>\n",
              "      <td>Afternoon Run</td>\n",
              "      <td>6965235864</td>\n",
              "      <td>Run</td>\n",
              "      <td>12582.4</td>\n",
              "      <td>4106</td>\n",
              "      <td>3.064</td>\n",
              "      <td>10.338</td>\n",
              "      <td>22.6</td>\n",
              "      <td>2022-01-19</td>\n",
              "      <td>00:00:00</td>\n",
              "    </tr>\n",
              "    <tr>\n",
              "      <th>3</th>\n",
              "      <td>Afternoon Run</td>\n",
              "      <td>6915283782</td>\n",
              "      <td>Run</td>\n",
              "      <td>9973.3</td>\n",
              "      <td>2857</td>\n",
              "      <td>3.491</td>\n",
              "      <td>7.602</td>\n",
              "      <td>24.2</td>\n",
              "      <td>2022-01-10</td>\n",
              "      <td>00:00:00</td>\n",
              "    </tr>\n",
              "    <tr>\n",
              "      <th>4</th>\n",
              "      <td>Morning Run</td>\n",
              "      <td>6746517842</td>\n",
              "      <td>Run</td>\n",
              "      <td>10040.6</td>\n",
              "      <td>2877</td>\n",
              "      <td>3.490</td>\n",
              "      <td>4.791</td>\n",
              "      <td>24.2</td>\n",
              "      <td>2021-12-05</td>\n",
              "      <td>00:00:00</td>\n",
              "    </tr>\n",
              "    <tr>\n",
              "      <th>5</th>\n",
              "      <td>Afternoon Run</td>\n",
              "      <td>6716785648</td>\n",
              "      <td>Run</td>\n",
              "      <td>12147.6</td>\n",
              "      <td>3553</td>\n",
              "      <td>3.419</td>\n",
              "      <td>5.564</td>\n",
              "      <td>31.4</td>\n",
              "      <td>2021-11-28</td>\n",
              "      <td>00:00:00</td>\n",
              "    </tr>\n",
              "    <tr>\n",
              "      <th>6</th>\n",
              "      <td>Morning Run</td>\n",
              "      <td>6716580065</td>\n",
              "      <td>Run</td>\n",
              "      <td>12149.0</td>\n",
              "      <td>3697</td>\n",
              "      <td>3.286</td>\n",
              "      <td>4.958</td>\n",
              "      <td>32.4</td>\n",
              "      <td>2021-11-25</td>\n",
              "      <td>00:00:00</td>\n",
              "    </tr>\n",
              "    <tr>\n",
              "      <th>7</th>\n",
              "      <td>Morning Run</td>\n",
              "      <td>6238021423</td>\n",
              "      <td>Run</td>\n",
              "      <td>9666.0</td>\n",
              "      <td>2944</td>\n",
              "      <td>3.283</td>\n",
              "      <td>4.800</td>\n",
              "      <td>17.7</td>\n",
              "      <td>2021-08-28</td>\n",
              "      <td>00:00:00</td>\n",
              "    </tr>\n",
              "    <tr>\n",
              "      <th>8</th>\n",
              "      <td>Afternoon Run</td>\n",
              "      <td>6233156433</td>\n",
              "      <td>Run</td>\n",
              "      <td>5353.8</td>\n",
              "      <td>1769</td>\n",
              "      <td>3.026</td>\n",
              "      <td>4.800</td>\n",
              "      <td>0.0</td>\n",
              "      <td>2021-08-13</td>\n",
              "      <td>00:00:00</td>\n",
              "    </tr>\n",
              "    <tr>\n",
              "      <th>9</th>\n",
              "      <td>Morning Run</td>\n",
              "      <td>6047168307</td>\n",
              "      <td>Run</td>\n",
              "      <td>10167.6</td>\n",
              "      <td>3280</td>\n",
              "      <td>3.100</td>\n",
              "      <td>5.500</td>\n",
              "      <td>205.9</td>\n",
              "      <td>2021-07-25</td>\n",
              "      <td>00:00:00</td>\n",
              "    </tr>\n",
              "  </tbody>\n",
              "</table>\n",
              "</div>\n",
              "      <button class=\"colab-df-convert\" onclick=\"convertToInteractive('df-fa14d723-0fd7-4916-981c-5ca7dd437ec0')\"\n",
              "              title=\"Convert this dataframe to an interactive table.\"\n",
              "              style=\"display:none;\">\n",
              "        \n",
              "  <svg xmlns=\"http://www.w3.org/2000/svg\" height=\"24px\"viewBox=\"0 0 24 24\"\n",
              "       width=\"24px\">\n",
              "    <path d=\"M0 0h24v24H0V0z\" fill=\"none\"/>\n",
              "    <path d=\"M18.56 5.44l.94 2.06.94-2.06 2.06-.94-2.06-.94-.94-2.06-.94 2.06-2.06.94zm-11 1L8.5 8.5l.94-2.06 2.06-.94-2.06-.94L8.5 2.5l-.94 2.06-2.06.94zm10 10l.94 2.06.94-2.06 2.06-.94-2.06-.94-.94-2.06-.94 2.06-2.06.94z\"/><path d=\"M17.41 7.96l-1.37-1.37c-.4-.4-.92-.59-1.43-.59-.52 0-1.04.2-1.43.59L10.3 9.45l-7.72 7.72c-.78.78-.78 2.05 0 2.83L4 21.41c.39.39.9.59 1.41.59.51 0 1.02-.2 1.41-.59l7.78-7.78 2.81-2.81c.8-.78.8-2.07 0-2.86zM5.41 20L4 18.59l7.72-7.72 1.47 1.35L5.41 20z\"/>\n",
              "  </svg>\n",
              "      </button>\n",
              "      \n",
              "  <style>\n",
              "    .colab-df-container {\n",
              "      display:flex;\n",
              "      flex-wrap:wrap;\n",
              "      gap: 12px;\n",
              "    }\n",
              "\n",
              "    .colab-df-convert {\n",
              "      background-color: #E8F0FE;\n",
              "      border: none;\n",
              "      border-radius: 50%;\n",
              "      cursor: pointer;\n",
              "      display: none;\n",
              "      fill: #1967D2;\n",
              "      height: 32px;\n",
              "      padding: 0 0 0 0;\n",
              "      width: 32px;\n",
              "    }\n",
              "\n",
              "    .colab-df-convert:hover {\n",
              "      background-color: #E2EBFA;\n",
              "      box-shadow: 0px 1px 2px rgba(60, 64, 67, 0.3), 0px 1px 3px 1px rgba(60, 64, 67, 0.15);\n",
              "      fill: #174EA6;\n",
              "    }\n",
              "\n",
              "    [theme=dark] .colab-df-convert {\n",
              "      background-color: #3B4455;\n",
              "      fill: #D2E3FC;\n",
              "    }\n",
              "\n",
              "    [theme=dark] .colab-df-convert:hover {\n",
              "      background-color: #434B5C;\n",
              "      box-shadow: 0px 1px 3px 1px rgba(0, 0, 0, 0.15);\n",
              "      filter: drop-shadow(0px 1px 2px rgba(0, 0, 0, 0.3));\n",
              "      fill: #FFFFFF;\n",
              "    }\n",
              "  </style>\n",
              "\n",
              "      <script>\n",
              "        const buttonEl =\n",
              "          document.querySelector('#df-fa14d723-0fd7-4916-981c-5ca7dd437ec0 button.colab-df-convert');\n",
              "        buttonEl.style.display =\n",
              "          google.colab.kernel.accessAllowed ? 'block' : 'none';\n",
              "\n",
              "        async function convertToInteractive(key) {\n",
              "          const element = document.querySelector('#df-fa14d723-0fd7-4916-981c-5ca7dd437ec0');\n",
              "          const dataTable =\n",
              "            await google.colab.kernel.invokeFunction('convertToInteractive',\n",
              "                                                     [key], {});\n",
              "          if (!dataTable) return;\n",
              "\n",
              "          const docLinkHtml = 'Like what you see? Visit the ' +\n",
              "            '<a target=\"_blank\" href=https://colab.research.google.com/notebooks/data_table.ipynb>data table notebook</a>'\n",
              "            + ' to learn more about interactive tables.';\n",
              "          element.innerHTML = '';\n",
              "          dataTable['output_type'] = 'display_data';\n",
              "          await google.colab.output.renderOutput(dataTable, element);\n",
              "          const docLink = document.createElement('div');\n",
              "          docLink.innerHTML = docLinkHtml;\n",
              "          element.appendChild(docLink);\n",
              "        }\n",
              "      </script>\n",
              "    </div>\n",
              "  </div>\n",
              "  "
            ]
          },
          "metadata": {},
          "execution_count": 7
        }
      ]
    },
    {
      "cell_type": "code",
      "source": [
        "runs = activities.loc[activities['type'] == 'Run']"
      ],
      "metadata": {
        "id": "o9AkUWAcj_EZ"
      },
      "execution_count": 8,
      "outputs": []
    },
    {
      "cell_type": "code",
      "source": [
        "sns.set(style=\"ticks\", context=\"talk\")\n",
        "sns.regplot(x='distance', y = 'average_speed', data = runs).set_title(\"Average Speed vs Distance\")"
      ],
      "metadata": {
        "colab": {
          "base_uri": "https://localhost:8080/",
          "height": 338
        },
        "id": "zrh0_LPEkCFm",
        "outputId": "e75769e1-6c76-491b-fa92-3bffe1532946"
      },
      "execution_count": 9,
      "outputs": [
        {
          "output_type": "execute_result",
          "data": {
            "text/plain": [
              "Text(0.5, 1.0, 'Average Speed vs Distance')"
            ]
          },
          "metadata": {},
          "execution_count": 9
        },
        {
          "output_type": "display_data",
          "data": {
            "text/plain": [
              "<Figure size 432x288 with 1 Axes>"
            ],
            "image/png": "[encoded data removed]"
          },
          "metadata": {}
        }
      ]
    },
    {
      "cell_type": "code",
      "source": [
        "sns.set(style=\"ticks\", context=\"talk\")\n",
        "sns.regplot(x='distance', y = 'max_speed', data = runs).set_title(\"Max Speed vs Distance\")"
      ],
      "metadata": {
        "colab": {
          "base_uri": "https://localhost:8080/",
          "height": 338
        },
        "id": "no3hbM5bkMjB",
        "outputId": "f9cf90dd-7433-4483-98aa-d54d90eceba3"
      },
      "execution_count": 10,
      "outputs": [
        {
          "output_type": "execute_result",
          "data": {
            "text/plain": [
              "Text(0.5, 1.0, 'Max Speed vs Distance')"
            ]
          },
          "metadata": {},
          "execution_count": 10
        },
        {
          "output_type": "display_data",
          "data": {
            "text/plain": [
              "<Figure size 432x288 with 1 Axes>"
            ],
            "image/png": "[encoded data removed]"
          },
          "metadata": {}
        }
      ]
    },
    {
      "cell_type": "code",
      "source": [
        "fig = plt.figure() #create overall container\n",
        "ax1 = fig.add_subplot(111) #add a 1 by 1 plot to the figure\n",
        "x = np.asarray(runs.start_date_local)  #convert data to numpy array\n",
        "y = np.asarray(runs.average_speed)\n",
        "ax1.plot_date(x, y) #plot data points in scatter plot on ax1\n",
        "ax1.set_title('Average Speed over Time')\n",
        "#ax1.set_ylim([0,5])\n",
        "#add trend line\n",
        "x2 = mdates.date2num(x)\n",
        "z=np.polyfit(x2,y,1)\n",
        "p=np.poly1d(z)\n",
        "plt.plot(x,p(x2),'r--')\n",
        "#format the figure and display\n",
        "fig.autofmt_xdate(rotation=45)\n",
        "fig.tight_layout()\n",
        "fig.show()"
      ],
      "metadata": {
        "colab": {
          "base_uri": "https://localhost:8080/",
          "height": 518
        },
        "id": "D6__50SekvC3",
        "outputId": "0e9bd5f4-ef63-4f03-e5c2-a7485a79e7aa"
      },
      "execution_count": 12,
      "outputs": [
        {
          "output_type": "error",
          "ename": "NameError",
          "evalue": "ignored",
          "traceback": [
            "\u001b[0;31m---------------------------------------------------------------------------\u001b[0m",
            "\u001b[0;31mNameError\u001b[0m                                 Traceback (most recent call last)",
            "\u001b[0;32m<ipython-input-12-cec13a8d3625>\u001b[0m in \u001b[0;36m<module>\u001b[0;34m()\u001b[0m\n\u001b[1;32m      7\u001b[0m \u001b[0;31m#ax1.set_ylim([0,10])\u001b[0m\u001b[0;34m\u001b[0m\u001b[0;34m\u001b[0m\u001b[0;34m\u001b[0m\u001b[0m\n\u001b[1;32m      8\u001b[0m \u001b[0;31m#add trend line\u001b[0m\u001b[0;34m\u001b[0m\u001b[0;34m\u001b[0m\u001b[0;34m\u001b[0m\u001b[0m\n\u001b[0;32m----> 9\u001b[0;31m \u001b[0mx2\u001b[0m \u001b[0;34m=\u001b[0m \u001b[0mmdates\u001b[0m\u001b[0;34m.\u001b[0m\u001b[0mdate2num\u001b[0m\u001b[0;34m(\u001b[0m\u001b[0mx\u001b[0m\u001b[0;34m)\u001b[0m\u001b[0;34m\u001b[0m\u001b[0;34m\u001b[0m\u001b[0m\n\u001b[0m\u001b[1;32m     10\u001b[0m \u001b[0mz\u001b[0m\u001b[0;34m=\u001b[0m\u001b[0mnp\u001b[0m\u001b[0;34m.\u001b[0m\u001b[0mpolyfit\u001b[0m\u001b[0;34m(\u001b[0m\u001b[0mx2\u001b[0m\u001b[0;34m,\u001b[0m\u001b[0my\u001b[0m\u001b[0;34m,\u001b[0m\u001b[0;36m1\u001b[0m\u001b[0;34m)\u001b[0m\u001b[0;34m\u001b[0m\u001b[0;34m\u001b[0m\u001b[0m\n\u001b[1;32m     11\u001b[0m \u001b[0mp\u001b[0m\u001b[0;34m=\u001b[0m\u001b[0mnp\u001b[0m\u001b[0;34m.\u001b[0m\u001b[0mpoly1d\u001b[0m\u001b[0;34m(\u001b[0m\u001b[0mz\u001b[0m\u001b[0;34m)\u001b[0m\u001b[0;34m\u001b[0m\u001b[0;34m\u001b[0m\u001b[0m\n",
            "\u001b[0;31mNameError\u001b[0m: name 'mdates' is not defined"
          ]
        },
        {
          "output_type": "display_data",
          "data": {
            "text/plain": [
              "<Figure size 432x288 with 1 Axes>"
            ],
            "image/png": "[encoded data removed]"
          },
          "metadata": {}
        }
      ]
    }
  ]
}