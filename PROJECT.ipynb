{
  "nbformat": 4,
  "nbformat_minor": 0,
  "metadata": {
    "colab": {
      "name": "PROJECT",
      "provenance": [],
      "collapsed_sections": [],
      "authorship_tag": "ABX9TyNZv8WzZ7yfm8bAQEH2S4qZ",
      "include_colab_link": true
    },
    "kernelspec": {
      "name": "python3",
      "display_name": "Python 3"
    },
    "language_info": {
      "name": "python"
    }
  },
  "cells": [
    {
      "cell_type": "markdown",
      "metadata": {
        "id": "view-in-github",
        "colab_type": "text"
      },
      "source": [
        "<a href=\"https://colab.research.google.com/github/egersack/finalproject/blob/main/PROJECT.ipynb\" target=\"_parent\"><img src=\"https://colab.research.google.com/assets/colab-badge.svg\" alt=\"Open In Colab\"/></a>"
      ]
    },
    {
      "cell_type": "code",
      "execution_count": 1,
      "metadata": {
        "colab": {
          "base_uri": "https://localhost:8080/"
        },
        "id": "VqUTILrPB-OS",
        "outputId": "a7ba3117-e9c8-4c0b-a4be-a0cbbd7ee062"
      },
      "outputs": [
        {
          "output_type": "stream",
          "name": "stdout",
          "text": [
            "{'token_type': 'Bearer', 'expires_at': 1648501174, 'expires_in': 21600, 'refresh_token': '9b9d27ee5cd3f33dd0df5190023fc9ae81f9db51', 'access_token': '3b93f87d9d078e320f56ec7ca5365e187eca077e', 'athlete': {'id': 68899871, 'username': 'egersack', 'resource_state': 2, 'firstname': 'Ella', 'lastname': 'Gersack', 'bio': None, 'city': None, 'state': None, 'country': None, 'sex': 'F', 'premium': False, 'summit': False, 'created_at': '2020-09-21T15:05:00Z', 'updated_at': '2021-08-07T20:39:58Z', 'badge_type_id': 0, 'weight': 0.0, 'profile_medium': 'https://lh3.googleusercontent.com/a/AATXAJyU6KDVWeovaORBSqxA1tPDHbIvsQ0mUJhb4Hq7=s96-c', 'profile': 'https://lh3.googleusercontent.com/a/AATXAJyU6KDVWeovaORBSqxA1tPDHbIvsQ0mUJhb4Hq7=s96-c', 'friend': None, 'follower': None}}\n"
          ]
        }
      ],
      "source": [
        "import requests\n",
        "import json\n",
        "# Make Strava auth API call with your \n",
        "# client_code, client_secret and code\n",
        "response = requests.post(\n",
        "                    url = 'https://www.strava.com/oauth/token',\n",
        "                    data = {\n",
        "                            'client_id': 80244,\n",
        "                            'client_secret': '5569506f1befcc383ee1041f3aa7dd8d4551295f',\n",
        "                            'code': 'a07b1dc071e6609c7aff89db311d3a840f9df99d',\n",
        "                            'grant_type': 'authorization_code'\n",
        "                            }\n",
        "                )\n",
        "#Save json response as a variable\n",
        "strava_tokens = response.json()\n",
        "# Save tokens to file\n",
        "with open('strava_tokens.json', 'w') as outfile:\n",
        "    json.dump(strava_tokens, outfile)\n",
        "# Open JSON file and print the file contents \n",
        "# to check it's worked properly\n",
        "with open('strava_tokens.json') as check:\n",
        "  data = json.load(check)\n",
        "print(data)"
      ]
    },
    {
      "cell_type": "code",
      "source": [
        "import requests\n",
        "from pandas.io.json import json_normalize\n",
        "import json\n",
        "import csv\n",
        "# Get the tokens from file to connect to Strava\n",
        "with open('strava_tokens.json') as json_file:\n",
        "    strava_tokens = json.load(json_file)\n",
        "# Loop through all activities\n",
        "url = \"https://www.strava.com/api/v3/activities\"\n",
        "access_token = strava_tokens['access_token']\n",
        "# Get first page of activities from Strava with all fields\n",
        "r = requests.get(url + '?access_token=' + access_token)\n",
        "r = r.json()\n",
        "    \n",
        "df = json_normalize(r)\n",
        "df.to_csv('strava_activities_all_fields.csv')"
      ],
      "metadata": {
        "colab": {
          "base_uri": "https://localhost:8080/"
        },
        "id": "j_rqRNEzCt_T",
        "outputId": "ec3e0a96-29e5-4c92-be85-206d2de5990e"
      },
      "execution_count": 2,
      "outputs": [
        {
          "output_type": "stream",
          "name": "stderr",
          "text": [
            "/usr/local/lib/python3.7/dist-packages/ipykernel_launcher.py:15: FutureWarning: pandas.io.json.json_normalize is deprecated, use pandas.json_normalize instead\n",
            "  from ipykernel import kernelapp as app\n"
          ]
        }
      ]
    },
    {
      "cell_type": "code",
      "source": [
        "import pandas as pd\n",
        "import requests\n",
        "import json\n",
        "# Get the tokens from file to connect to Strava\n",
        "with open('strava_tokens.json') as json_file:\n",
        "    strava_tokens = json.load(json_file)\n",
        "# Loop through all activities\n",
        "page = 1\n",
        "url = \"https://www.strava.com/api/v3/activities\"\n",
        "access_token = strava_tokens['access_token']\n",
        "# Create the dataframe ready for the API call to store your activity data\n",
        "activities = pd.DataFrame(\n",
        "    columns = [\n",
        "            \"id\",\n",
        "            \"name\",\n",
        "            \"start_date_local\",\n",
        "            \"type\",\n",
        "            \"distance\",\n",
        "            \"moving_time\",\n",
        "            \"elapsed_time\",\n",
        "            \"total_elevation_gain\",\n",
        "            \"end_latlng\",\n",
        "            \"external_id\"\n",
        "    ]\n",
        ")\n",
        "while True:\n",
        "    \n",
        "    # get page of activities from Strava\n",
        "    r = requests.get(url + '?access_token=' + access_token + '&per_page=200' + '&page=' + str(page))\n",
        "    r = r.json()\n",
        "    \n",
        "    # if no results then exit loop\n",
        "    if (not r):\n",
        "        break\n",
        "    \n",
        "    # otherwise add new data to dataframe\n",
        "    for x in range(len(r)):\n",
        "        activities.loc[x + (page-1)*200,'id'] = r[x]['id']\n",
        "        activities.loc[x + (page-1)*200,'name'] = r[x]['name']\n",
        "        activities.loc[x + (page-1)*200,'start_date_local'] = r[x]['start_date_local']\n",
        "        activities.loc[x + (page-1)*200,'type'] = r[x]['type']\n",
        "        activities.loc[x + (page-1)*200,'distance'] = r[x]['distance']\n",
        "        activities.loc[x + (page-1)*200,'moving_time'] = r[x]['moving_time']\n",
        "        activities.loc[x + (page-1)*200,'elapsed_time'] = r[x]['elapsed_time']\n",
        "        activities.loc[x + (page-1)*200,'total_elevation_gain'] = r[x]['total_elevation_gain']\n",
        "        activities.loc[x + (page-1)*200,'end_latlng'] = r[x]['end_latlng']\n",
        "        activities.loc[x + (page-1)*200,'external_id'] = r[x]['external_id']\n",
        "    # increment page\n",
        "    page += 1\n",
        "# Export your activities file as a csv \n",
        "# to the folder you're running this script in\n",
        "activities.to_csv('strava_activities.csv')"
      ],
      "metadata": {
        "id": "bauIx2UsKgaU"
      },
      "execution_count": 3,
      "outputs": []
    },
    {
      "cell_type": "code",
      "source": [
        "import requests\n",
        "import json\n",
        "import time\n",
        "# Get the tokens from file to connect to Strava\n",
        "with open('strava_tokens.json') as json_file:\n",
        "    strava_tokens = json.load(json_file)\n",
        "# If access_token has expired then \n",
        "# use the refresh_token to get the new access_token\n",
        "if strava_tokens['expires_at'] < time.time():\n",
        "# Make Strava auth API call with current refresh token\n",
        "    response = requests.post(\n",
        "                        url = 'https://www.strava.com/oauth/token',\n",
        "                        data = {\n",
        "                                'client_id': 80244,\n",
        "                                'client_secret': '5569506f1befcc383ee1041f3aa7dd8d4551295f',\n",
        "                                'grant_type': 'refresh_token',\n",
        "                                'refresh_token': strava_tokens['refresh_token']\n",
        "                                }\n",
        "                    )\n",
        "# Save response as json in new variable\n",
        "    new_strava_tokens = response.json()\n",
        "# Save new tokens to file\n",
        "    with open('strava_tokens.json', 'w') as outfile:\n",
        "        json.dump(new_strava_tokens, outfile)\n",
        "# Use new Strava tokens from now\n",
        "    strava_tokens = new_strava_tokens\n",
        "# Open the new JSON file and print the file contents \n",
        "# to check it's worked properly\n",
        "with open('strava_tokens.json') as check:\n",
        "  data = json.load(check)\n",
        "print(data)"
      ],
      "metadata": {
        "colab": {
          "base_uri": "https://localhost:8080/"
        },
        "id": "pr_NHw75K4Al",
        "outputId": "e511657b-b1a2-4c11-e59d-b0f7a426118e"
      },
      "execution_count": 4,
      "outputs": [
        {
          "output_type": "stream",
          "name": "stdout",
          "text": [
            "{'token_type': 'Bearer', 'expires_at': 1648501174, 'expires_in': 21600, 'refresh_token': '9b9d27ee5cd3f33dd0df5190023fc9ae81f9db51', 'access_token': '3b93f87d9d078e320f56ec7ca5365e187eca077e', 'athlete': {'id': 68899871, 'username': 'egersack', 'resource_state': 2, 'firstname': 'Ella', 'lastname': 'Gersack', 'bio': None, 'city': None, 'state': None, 'country': None, 'sex': 'F', 'premium': False, 'summit': False, 'created_at': '2020-09-21T15:05:00Z', 'updated_at': '2021-08-07T20:39:58Z', 'badge_type_id': 0, 'weight': 0.0, 'profile_medium': 'https://lh3.googleusercontent.com/a/AATXAJyU6KDVWeovaORBSqxA1tPDHbIvsQ0mUJhb4Hq7=s96-c', 'profile': 'https://lh3.googleusercontent.com/a/AATXAJyU6KDVWeovaORBSqxA1tPDHbIvsQ0mUJhb4Hq7=s96-c', 'friend': None, 'follower': None}}\n"
          ]
        }
      ]
    },
    {
      "cell_type": "code",
      "source": [
        "import pandas as pd\n",
        "import requests\n",
        "import json\n",
        "import time\n",
        "## Get the tokens from file to connect to Strava\n",
        "with open('strava_tokens.json') as json_file:\n",
        "    strava_tokens = json.load(json_file)\n",
        "## If access_token has expired then use the refresh_token to get the new access_token\n",
        "if strava_tokens['expires_at'] < time.time():\n",
        "#Make Strava auth API call with current refresh token\n",
        "    response = requests.post(\n",
        "                        url = 'https://www.strava.com/oauth/token',\n",
        "                        data = {\n",
        "                                'client_id': 80244,\n",
        "                                'client_secret': '5569506f1befcc383ee1041f3aa7dd8d4551295f',\n",
        "                                'grant_type': 'refresh_token',\n",
        "                                'refresh_token': strava_tokens['refresh_token']\n",
        "                                }\n",
        "                    )\n",
        "#Save response as json in new variable\n",
        "    new_strava_tokens = response.json()\n",
        "# Save new tokens to file\n",
        "    with open('strava_tokens.json', 'w') as outfile:\n",
        "        json.dump(new_strava_tokens, outfile)\n",
        "#Use new Strava tokens from now\n",
        "    strava_tokens = new_strava_tokens\n",
        "#Loop through all activities\n",
        "page = 1\n",
        "url = \"https://www.strava.com/api/v3/activities\"\n",
        "access_token = strava_tokens['access_token']\n",
        "## Create the dataframe ready for the API call to store your activity data\n",
        "activities = pd.DataFrame(\n",
        "    columns = [\n",
        "            \"id\",\n",
        "            \"name\",\n",
        "            \"start_date_local\",\n",
        "            \"type\",\n",
        "            \"distance\",\n",
        "            \"moving_time\",\n",
        "            \"elapsed_time\",\n",
        "            \"total_elevation_gain\",\n",
        "            \"end_latlng\",\n",
        "            \"external_id\"\n",
        "    ]\n",
        ")\n",
        "while True:\n",
        "    \n",
        "    # get page of activities from Strava\n",
        "    r = requests.get(url + '?access_token=' + access_token + '&per_page=200' + '&page=' + str(page))\n",
        "    r = r.json()\n",
        "# if no results then exit loop\n",
        "    if (not r):\n",
        "        break\n",
        "    \n",
        "    # otherwise add new data to dataframe\n",
        "    for x in range(len(r)):\n",
        "        activities.loc[x + (page-1)*200,'id'] = r[x]['id']\n",
        "        activities.loc[x + (page-1)*200,'name'] = r[x]['name']\n",
        "        activities.loc[x + (page-1)*200,'start_date_local'] = r[x]['start_date_local']\n",
        "        activities.loc[x + (page-1)*200,'type'] = r[x]['type']\n",
        "        activities.loc[x + (page-1)*200,'distance'] = r[x]['distance']\n",
        "        activities.loc[x + (page-1)*200,'moving_time'] = r[x]['moving_time']\n",
        "        activities.loc[x + (page-1)*200,'elapsed_time'] = r[x]['elapsed_time']\n",
        "        activities.loc[x + (page-1)*200,'total_elevation_gain'] = r[x]['total_elevation_gain']\n",
        "        activities.loc[x + (page-1)*200,'end_latlng'] = r[x]['end_latlng']\n",
        "        activities.loc[x + (page-1)*200,'external_id'] = r[x]['external_id']\n",
        "# increment page\n",
        "    page += 1\n",
        "activities.to_csv('strava_activities.csv')"
      ],
      "metadata": {
        "id": "esgplsVSLWc9"
      },
      "execution_count": 5,
      "outputs": []
    }
  ]
}